{
 "cells": [
  {
   "cell_type": "code",
   "execution_count": 8,
   "metadata": {
    "colab": {},
    "colab_type": "code",
    "id": "IOr2L_LmZQ5Z"
   },
   "outputs": [],
   "source": [
    "import numpy as np\n",
    "from sklearn.utils import shuffle\n",
    "\n",
    "np.random.seed(0)"
   ]
  },
  {
   "cell_type": "code",
   "execution_count": 9,
   "metadata": {
    "colab": {},
    "colab_type": "code",
    "id": "vXTIeqTUZBUY"
   },
   "outputs": [],
   "source": [
    "X = np.genfromtxt('data/X_train.txt', delimiter=None)\n",
    "Y = np.genfromtxt('data/Y_train.txt', delimiter=None)\n",
    "Xte = np.genfromtxt('data/X_test.txt', delimiter=None)\n",
    "X,Y = shuffle(X,Y)"
   ]
  },
  {
   "cell_type": "markdown",
   "metadata": {
    "colab_type": "text",
    "id": "G-k2eXzJHuyH"
   },
   "source": [
    "## Keras Neural Network"
   ]
  },
  {
   "cell_type": "code",
   "execution_count": 10,
   "metadata": {
    "colab": {},
    "colab_type": "code",
    "id": "APHnH235HtL_"
   },
   "outputs": [
    {
     "name": "stderr",
     "output_type": "stream",
     "text": [
      "Using TensorFlow backend.\n"
     ]
    }
   ],
   "source": [
    "import tensorflow as tf\n",
    "from tensorflow import keras\n",
    "from keras.utils import np_utils\n",
    "from sklearn.model_selection import train_test_split\n",
    "from keras.utils import to_categorical"
   ]
  },
  {
   "cell_type": "code",
   "execution_count": 0,
   "metadata": {
    "colab": {},
    "colab_type": "code",
    "id": "PIoar5FjURj5"
   },
   "outputs": [],
   "source": [
    "Xte = np.genfromtxt('drive/My Drive/googlecolab/data/X_test.txt', delimiter=None)"
   ]
  },
  {
   "cell_type": "code",
   "execution_count": 11,
   "metadata": {
    "colab": {},
    "colab_type": "code",
    "id": "JcBE4a3yQks_"
   },
   "outputs": [],
   "source": [
    "Xtr, Xva, Ytr, Yva = train_test_split(X, Y, train_size=0.75)"
   ]
  },
  {
   "cell_type": "code",
   "execution_count": 14,
   "metadata": {
    "colab": {},
    "colab_type": "code",
    "id": "DNZF8wPle4Ix"
   },
   "outputs": [],
   "source": [
    "Ytr = to_categorical(Ytr)\n",
    "Yva = to_categorical(Yva)"
   ]
  },
  {
   "cell_type": "code",
   "execution_count": 205,
   "metadata": {
    "colab": {
     "base_uri": "https://localhost:8080/",
     "height": 35
    },
    "colab_type": "code",
    "executionInfo": {
     "elapsed": 288,
     "status": "ok",
     "timestamp": 1591679850733,
     "user": {
      "displayName": "Ngan Luong",
      "photoUrl": "",
      "userId": "18175004422280690003"
     },
     "user_tz": 420
    },
    "id": "mpJYQI0KfNtw",
    "outputId": "9f4114da-3f66-4e9e-d4c9-d1dc6cc1497b"
   },
   "outputs": [
    {
     "data": {
      "text/plain": [
       "(150000, 14)"
      ]
     },
     "execution_count": 205,
     "metadata": {
      "tags": []
     },
     "output_type": "execute_result"
    }
   ],
   "source": [
    "Xtr.shape"
   ]
  },
  {
   "cell_type": "code",
   "execution_count": 15,
   "metadata": {
    "colab": {},
    "colab_type": "code",
    "id": "NLEoj6H2s0t8"
   },
   "outputs": [],
   "source": [
    "Y = to_categorical(Y)"
   ]
  },
  {
   "cell_type": "code",
   "execution_count": 16,
   "metadata": {
    "colab": {},
    "colab_type": "code",
    "id": "nAMcCfgONliu"
   },
   "outputs": [],
   "source": [
    "model = keras.Sequential([keras.layers.Dense(64, input_dim=14, activation=tf.nn.relu),\n",
    "                          keras.layers.Dense(64, activation=tf.nn.relu),\n",
    "                          keras.layers.Dense(64, activation=tf.nn.relu),\n",
    "                          keras.layers.Dense(64, activation=tf.nn.relu),\n",
    "                          keras.layers.Dense(2, activation=tf.nn.softmax)])\n",
    "model.compile(optimizer='adam',\n",
    "              loss='categorical_crossentropy',\n",
    "              metrics=['accuracy'])"
   ]
  },
  {
   "cell_type": "code",
   "execution_count": 19,
   "metadata": {
    "colab": {
     "base_uri": "https://localhost:8080/",
     "height": 108
    },
    "colab_type": "code",
    "executionInfo": {
     "elapsed": 25852,
     "status": "ok",
     "timestamp": 1591683410500,
     "user": {
      "displayName": "Ngan Luong",
      "photoUrl": "",
      "userId": "18175004422280690003"
     },
     "user_tz": 420
    },
    "id": "MVh0uhYMQl6R",
    "outputId": "cfead25e-1cde-46dc-ecde-3fd9ffbe20dc"
   },
   "outputs": [
    {
     "name": "stdout",
     "output_type": "stream",
     "text": [
      "Train on 150000 samples\n",
      "Epoch 1/5\n",
      "150000/150000 [==============================] - 6s 37us/sample - loss: 0.6126 - accuracy: 0.6818\n",
      "Epoch 2/5\n",
      "150000/150000 [==============================] - 6s 37us/sample - loss: 0.6114 - accuracy: 0.6825\n",
      "Epoch 3/5\n",
      "150000/150000 [==============================] - 6s 38us/sample - loss: 0.6109 - accuracy: 0.6834\n",
      "Epoch 4/5\n",
      "150000/150000 [==============================] - 6s 38us/sample - loss: 0.6109 - accuracy: 0.6835\n",
      "Epoch 5/5\n",
      "150000/150000 [==============================] - 6s 38us/sample - loss: 0.6099 - accuracy: 0.6841\n"
     ]
    },
    {
     "data": {
      "text/plain": [
       "<tensorflow.python.keras.callbacks.History at 0x2a0eee06fc8>"
      ]
     },
     "execution_count": 19,
     "metadata": {},
     "output_type": "execute_result"
    }
   ],
   "source": [
    "model.fit(Xtr, Ytr, epochs=5)"
   ]
  },
  {
   "cell_type": "code",
   "execution_count": 21,
   "metadata": {
    "colab": {
     "base_uri": "https://localhost:8080/",
     "height": 35
    },
    "colab_type": "code",
    "executionInfo": {
     "elapsed": 2382,
     "status": "ok",
     "timestamp": 1591683421711,
     "user": {
      "displayName": "Ngan Luong",
      "photoUrl": "",
      "userId": "18175004422280690003"
     },
     "user_tz": 420
    },
    "id": "aB2ofWxtSD8l",
    "outputId": "642418f1-24f8-4960-a04f-3171f692e500"
   },
   "outputs": [
    {
     "data": {
      "text/plain": [
       "0.68618"
      ]
     },
     "execution_count": 21,
     "metadata": {},
     "output_type": "execute_result"
    }
   ],
   "source": [
    "model.evaluate(Xva, Yva, verbose=0)[1]"
   ]
  },
  {
   "cell_type": "code",
   "execution_count": 0,
   "metadata": {
    "colab": {},
    "colab_type": "code",
    "id": "ftJmXwuAUcaA"
   },
   "outputs": [],
   "source": [
    "probs = model.predict(Xte)"
   ]
  },
  {
   "cell_type": "code",
   "execution_count": 0,
   "metadata": {
    "colab": {},
    "colab_type": "code",
    "id": "hPVUfUTqgcGq"
   },
   "outputs": [],
   "source": [
    "# Create the data for submission by taking the P(Y=1) column from probs and just add a running index as the first column.\n",
    "Y_sub = np.vstack([np.arange(Xte.shape[0]), probs[:, 1]]).T\n",
    "\n",
    "# We specify the header (ID, Prob1) and also specify the comments as '' so the header won't be commented out with\n",
    "# the # sign.\n",
    "np.savetxt('drive/My Drive/googlecolab/data/Y_sub_nn2.txt', Y_sub, '%d, %.5f', header='ID,Prob1', comments='', delimiter=',')"
   ]
  },
  {
   "cell_type": "code",
   "execution_count": 0,
   "metadata": {
    "colab": {},
    "colab_type": "code",
    "id": "2tRGhn6Asibp"
   },
   "outputs": [],
   "source": []
  }
 ],
 "metadata": {
  "accelerator": "GPU",
  "colab": {
   "authorship_tag": "ABX9TyNrqWuEKv9bRdlo1KIKl+6+",
   "name": "linear_classifier.ipynb",
   "provenance": []
  },
  "kernelspec": {
   "display_name": "Python 3",
   "language": "python",
   "name": "python3"
  },
  "language_info": {
   "codemirror_mode": {
    "name": "ipython",
    "version": 3
   },
   "file_extension": ".py",
   "mimetype": "text/x-python",
   "name": "python",
   "nbconvert_exporter": "python",
   "pygments_lexer": "ipython3",
   "version": "3.7.7"
  }
 },
 "nbformat": 4,
 "nbformat_minor": 1
}
