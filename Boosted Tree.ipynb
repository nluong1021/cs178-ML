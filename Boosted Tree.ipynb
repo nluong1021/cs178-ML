{
 "cells": [
  {
   "cell_type": "markdown",
   "metadata": {},
   "source": [
    "# Boosted Decision Tree Classifier"
   ]
  },
  {
   "cell_type": "code",
   "execution_count": 61,
   "metadata": {},
   "outputs": [],
   "source": [
    "import numpy as np\n",
    "import matplotlib.pyplot as plt\n",
    "import mltools as ml\n",
    "import mltools.linear\n",
    "import mltools.transforms as xform\n",
    "\n",
    "np.random.seed(0)\n",
    "%matplotlib inline"
   ]
  },
  {
   "cell_type": "code",
   "execution_count": 102,
   "metadata": {},
   "outputs": [],
   "source": [
    "X = np.genfromtxt('data/X_train.txt', delimiter=None)\n",
    "Y = np.genfromtxt('data/Y_train.txt', delimiter=None)\n",
    "X,Y = ml.shuffleData(X,Y)"
   ]
  },
  {
   "cell_type": "code",
   "execution_count": 3,
   "metadata": {},
   "outputs": [
    {
     "data": {
      "text/plain": [
       "(200000, 14)"
      ]
     },
     "execution_count": 3,
     "metadata": {},
     "output_type": "execute_result"
    }
   ],
   "source": [
    "X.shape"
   ]
  },
  {
   "cell_type": "code",
   "execution_count": 4,
   "metadata": {},
   "outputs": [
    {
     "data": {
      "text/plain": [
       "(200000,)"
      ]
     },
     "execution_count": 4,
     "metadata": {},
     "output_type": "execute_result"
    }
   ],
   "source": [
    "Y.shape"
   ]
  },
  {
   "cell_type": "code",
   "execution_count": 7,
   "metadata": {},
   "outputs": [],
   "source": [
    "# Xs, Ys = X[:2000], Y[:2000]\n",
    "# Xtr, Xva, Ytr, Yva = ml.splitData(Xs,Ys, .75)\n",
    "Xtr, Xva, Ytr, Yva = ml.splitData(X,Y, .75)"
   ]
  },
  {
   "cell_type": "code",
   "execution_count": 58,
   "metadata": {},
   "outputs": [],
   "source": [
    "boosts = []\n",
    "n_boosts = 100\n",
    "\n",
    "Ytr_ = np.copy(Ytr)  # We're going to copy the data into a new variable.\n",
    "\n",
    "for i in range(n_boosts):\n",
    "    tree = ml.dtree.treeRegress(Xtr, Ytr_, maxDepth=1)\n",
    "    boosts.append(tree)\n",
    "    # Now \"learning\" from our mistakes.\n",
    "    Ytr_ -= tree.predict(Xtr)"
   ]
  },
  {
   "cell_type": "code",
   "execution_count": 59,
   "metadata": {},
   "outputs": [],
   "source": [
    "class BoostedTree(ml.base.classifier):\n",
    "    def __init__(self, learners):\n",
    "        self.learners = learners\n",
    "    \n",
    "    def predict(self, X):\n",
    "        preds = [self.learners[l].predict(X) for l in range(len(self.learners))]\n",
    "        return np.sum(preds, axis=0)"
   ]
  },
  {
   "cell_type": "code",
   "execution_count": 63,
   "metadata": {},
   "outputs": [],
   "source": [
    "train_auc = np.zeros((99))\n",
    "validation_auc = np.zeros((99))\n",
    "for i in range(0,99):\n",
    "    bt = BoostedTree(boosts[:i+1])\n",
    "    bt.classes = np.unique(Y)\n",
    "    train_auc[i] = bt.auc(Xtr, Ytr)\n",
    "    validation_auc[i] = bt.auc(Xva, Yva)"
   ]
  },
  {
   "cell_type": "code",
   "execution_count": 64,
   "metadata": {},
   "outputs": [
    {
     "data": {
      "image/png": "[encoded data removed]",
      "text/plain": [
       "<Figure size 432x288 with 1 Axes>"
      ]
     },
     "metadata": {
      "needs_background": "light"
     },
     "output_type": "display_data"
    }
   ],
   "source": [
    "plt.plot(train_auc,'r-',validation_auc,'g-')\n",
    "plt.show()"
   ]
  },
  {
   "cell_type": "code",
   "execution_count": 65,
   "metadata": {},
   "outputs": [
    {
     "name": "stdout",
     "output_type": "stream",
     "text": [
      "0.6796103320494208\n",
      "0.6796342661892174\n"
     ]
    }
   ],
   "source": [
    "print(validation_auc[-5])\n",
    "print(validation_auc[-1])"
   ]
  },
  {
   "cell_type": "code",
   "execution_count": null,
   "metadata": {},
   "outputs": [],
   "source": [
    "# Create the data for submission by taking the P(Y=1) column from probs and just add a running index as the first column.\n",
    "Y_sub = np.vstack([np.arange(Xte.shape[0]), probs[:, 1]]).T\n",
    "\n",
    "# We specify the header (ID, Prob1) and also specify the comments as '' so the header won't be commented out with\n",
    "# the # sign.\n",
    "np.savetxt('data/Y_sub.txt', Y_sub, '%d, %.5f', header='ID,Prob1', comments='', delimiter=',')"
   ]
  },
  {
   "cell_type": "code",
   "execution_count": 65,
   "metadata": {},
   "outputs": [],
   "source": [
    "boosts = []\n",
    "n_boosts = 20\n",
    "\n",
    "Ytr_ = np.copy(Ytr)  # We're going to copy the data into a new variable.\n",
    "\n",
    "for i in range(n_boosts):\n",
    "    tree = ml.dtree.treeClassify(Xtr, Ytr_, maxDepth=1)\n",
    "    boosts.append(tree)\n",
    "    # Now \"learning\" from our mistakes.\n",
    "    Ytr_ -= tree.predictSoft(Xtr)[:,1]"
   ]
  },
  {
   "cell_type": "code",
   "execution_count": 66,
   "metadata": {},
   "outputs": [],
   "source": [
    "class BoostedTree(ml.base.classifier):\n",
    "    def __init__(self, learners):\n",
    "        self.learners = learners\n",
    "    \n",
    "    def predictSoft(self, X):\n",
    "        preds = [self.learners[l].predictSoft(X) for l in range(len(self.learners))]\n",
    "        return np.sum(preds, axis=0)"
   ]
  },
  {
   "cell_type": "code",
   "execution_count": 68,
   "metadata": {},
   "outputs": [],
   "source": [
    "train_auc = np.zeros((19))\n",
    "validation_auc = np.zeros((19))\n",
    "for i in range(1,19):\n",
    "    bt = BoostedTree(boosts[1:i+1])\n",
    "    bt.classes = np.unique(Y)\n",
    "    train_auc[i] = bt.auc(Xtr, Ytr)\n",
    "    validation_auc[i] = bt.auc(Xva, Yva)"
   ]
  },
  {
   "cell_type": "code",
   "execution_count": 69,
   "metadata": {},
   "outputs": [
    {
     "data": {
      "image/png": "[encoded data removed]",
      "text/plain": [
       "<Figure size 432x288 with 1 Axes>"
      ]
     },
     "metadata": {
      "needs_background": "light"
     },
     "output_type": "display_data"
    }
   ],
   "source": [
    "plt.plot(train_auc,'r-',validation_auc,'g-')\n",
    "plt.show()"
   ]
  },
  {
   "cell_type": "markdown",
   "metadata": {},
   "source": [
    "## Adaboost for Single-Depth Decision Tree\n",
    "This is run in multiple iterations with additional boosts each time to create AUC graph"
   ]
  },
  {
   "cell_type": "code",
   "execution_count": 2,
   "metadata": {},
   "outputs": [],
   "source": [
    "## TEST\n",
    "\n",
    "from sklearn.ensemble import GradientBoostingClassifier\n",
    "from sklearn.ensemble import AdaBoostClassifier\n",
    "from sklearn.tree import DecisionTreeClassifier"
   ]
  },
  {
   "cell_type": "code",
   "execution_count": 3,
   "metadata": {},
   "outputs": [],
   "source": [
    "# train_auc = np.zeros((15))\n",
    "# validation_auc = np.zeros((15))\n",
    "# for i in range(15):\n",
    "#     bgc = GradientBoostingClassifier(n_estimators=i, max_depth=1)\n",
    "#     bgc.fit(Xtr, Ytr)"
   ]
  },
  {
   "cell_type": "code",
   "execution_count": 11,
   "metadata": {},
   "outputs": [
    {
     "name": "stdout",
     "output_type": "stream",
     "text": [
      "1 boosts...\n",
      "6 boosts...\n",
      "11 boosts...\n",
      "16 boosts...\n",
      "21 boosts...\n",
      "26 boosts...\n",
      "31 boosts...\n",
      "36 boosts...\n",
      "41 boosts...\n",
      "46 boosts...\n",
      "51 boosts...\n",
      "56 boosts...\n",
      "61 boosts...\n",
      "66 boosts...\n",
      "71 boosts...\n",
      "76 boosts...\n",
      "81 boosts...\n",
      "86 boosts...\n",
      "91 boosts...\n",
      "96 boosts...\n"
     ]
    }
   ],
   "source": [
    "dtree_clf = DecisionTreeClassifier(max_depth=1)\n",
    "\n",
    "train_auc = np.zeros((20))\n",
    "validation_auc = np.zeros((20))\n",
    "\n",
    "for i,n in enumerate(range(0,100,5)):\n",
    "    if n%5 == 0: print(f'{n+1} boosts...')\n",
    "    ada_regr = AdaBoostClassifier(base_estimator=dtree_clf, n_estimators=n+1)\n",
    "    ada_regr.fit(Xtr, Ytr)\n",
    "    train_auc[i] = ada_regr.score(Xtr, Ytr)\n",
    "    validation_auc[i] = ada_regr.score(Xva, Yva)\n",
    "#     preds = ada_regr.predict_proba(Xva)"
   ]
  },
  {
   "cell_type": "code",
   "execution_count": 21,
   "metadata": {},
   "outputs": [
    {
     "name": "stdout",
     "output_type": "stream",
     "text": [
      "101 boosts...\n",
      "106 boosts...\n",
      "111 boosts...\n",
      "116 boosts...\n",
      "121 boosts...\n",
      "126 boosts...\n"
     ]
    }
   ],
   "source": [
    "train_auc = np.concatenate((train_auc, np.zeros(6)))\n",
    "validation_auc = np.concatenate((validation_auc, np.zeros(6)))\n",
    "\n",
    "for i,n in enumerate(range(100,126,5)):\n",
    "    if n%5 == 0: print(f'{n+1} boosts...')\n",
    "    ada_regr = AdaBoostClassifier(base_estimator=dtree_clf, n_estimators=n+1)\n",
    "    ada_regr.fit(Xtr, Ytr)\n",
    "    train_auc[i+20] = ada_regr.score(Xtr, Ytr)\n",
    "    validation_auc[i+20] = ada_regr.score(Xva, Yva)"
   ]
  },
  {
   "cell_type": "code",
   "execution_count": 25,
   "metadata": {},
   "outputs": [
    {
     "name": "stdout",
     "output_type": "stream",
     "text": [
      "131 boosts...\n",
      "136 boosts...\n",
      "141 boosts...\n",
      "146 boosts...\n",
      "151 boosts...\n",
      "156 boosts...\n"
     ]
    }
   ],
   "source": [
    "train_auc = np.concatenate((train_auc, np.zeros(6)))\n",
    "validation_auc = np.concatenate((validation_auc, np.zeros(6)))\n",
    "\n",
    "for i,n in enumerate(range(130,156,5)):\n",
    "    if n%5 == 0: print(f'{n+1} boosts...')\n",
    "    ada_regr = AdaBoostClassifier(base_estimator=dtree_clf, n_estimators=n+1)\n",
    "    ada_regr.fit(Xtr, Ytr)\n",
    "    train_auc[i+26] = ada_regr.score(Xtr, Ytr)\n",
    "    validation_auc[i+26] = ada_regr.score(Xva, Yva)"
   ]
  },
  {
   "cell_type": "code",
   "execution_count": 27,
   "metadata": {},
   "outputs": [
    {
     "data": {
      "image/png": "[encoded data removed]",
      "text/plain": [
       "<Figure size 432x288 with 1 Axes>"
      ]
     },
     "metadata": {
      "needs_background": "light"
     },
     "output_type": "display_data"
    }
   ],
   "source": [
    "xrange = np.arange(0,156,5)\n",
    "plt.plot(xrange,train_auc,'r-',xrange,validation_auc,'g-')\n",
    "plt.xlabel('Boosts')\n",
    "plt.ylabel('AUC')\n",
    "plt.legend(['Training AUC', 'Validation AUC'])\n",
    "plt.savefig('adaboost_auc155.png')\n",
    "plt.show()"
   ]
  },
  {
   "cell_type": "markdown",
   "metadata": {},
   "source": [
    "## Run 2 with Adaboost Regressor on Decision Tree\n",
    "Decision tree is changed to have max depth 3 instead of 1"
   ]
  },
  {
   "cell_type": "code",
   "execution_count": 46,
   "metadata": {},
   "outputs": [],
   "source": [
    "# dtree_clf2 = DecisionTreeClassifier(max_depth=3)\n",
    "\n",
    "# train_auc2 = np.zeros((20))\n",
    "# validation_auc2 = np.zeros((20))\n",
    "\n",
    "for i,n in enumerate(range(0,101,5)):\n",
    "    if n%5 == 0: print(f'{n+1} boosts...')\n",
    "#     ada_regr2 = AdaBoostClassifier(base_estimator=dtree_clf2, n_estimators=n+1)\n",
    "#     ada_regr2.fit(Xtr, Ytr)\n",
    "#     train_auc2[i] = ada_regr2.score(Xtr, Ytr)\n",
    "#     validation_auc2[i] = ada_regr2.score(Xva, Yva)\n",
    "#     preds = ada_regr.predict_proba(Xva)"
   ]
  },
  {
   "cell_type": "code",
   "execution_count": 47,
   "metadata": {},
   "outputs": [
    {
     "name": "stdout",
     "output_type": "stream",
     "text": [
      "106 boosts...\n",
      "111 boosts...\n",
      "116 boosts...\n",
      "121 boosts...\n",
      "126 boosts...\n"
     ]
    }
   ],
   "source": [
    "train_auc2 = np.concatenate((train_auc2, np.zeros(5)))\n",
    "validation_auc2 = np.concatenate((validation_auc2, np.zeros(5)))\n",
    "\n",
    "for i,n in enumerate(range(105,126,5)):\n",
    "    if n%5 == 0: print(f'{n+1} boosts...')\n",
    "    ada_regr2 = AdaBoostClassifier(base_estimator=dtree_clf2, n_estimators=n+1)\n",
    "    ada_regr2.fit(Xtr, Ytr)\n",
    "    train_auc2[i+21] = ada_regr2.score(Xtr, Ytr)\n",
    "    validation_auc2[i+21] = ada_regr2.score(Xva, Yva)"
   ]
  },
  {
   "cell_type": "code",
   "execution_count": 48,
   "metadata": {},
   "outputs": [
    {
     "data": {
      "image/png": "[encoded data removed]",
      "text/plain": [
       "<Figure size 432x288 with 1 Axes>"
      ]
     },
     "metadata": {
      "needs_background": "light"
     },
     "output_type": "display_data"
    }
   ],
   "source": [
    "xrange = np.arange(0,126,5)\n",
    "plt.plot(xrange,train_auc2,'r-',xrange,validation_auc2,'g-')\n",
    "plt.xlabel('Boosts')\n",
    "plt.ylabel('AUC')\n",
    "plt.legend(['Training AUC', 'Validation AUC'])\n",
    "plt.savefig('results/adaboost2_auc126.png')\n",
    "plt.show()"
   ]
  },
  {
   "cell_type": "code",
   "execution_count": 50,
   "metadata": {},
   "outputs": [
    {
     "name": "stdout",
     "output_type": "stream",
     "text": [
      "Training AUC:\n",
      "[0.68170667 0.69395333 0.69747333 0.70040667 0.70289333 0.70423333\n",
      " 0.70626    0.70829333 0.70985333 0.71135333 0.71154    0.7132\n",
      " 0.71410667 0.71512    0.71606    0.71712    0.71824667 0.71888\n",
      " 0.71969333 0.72028    0.72134667 0.72242    0.72378667 0.72447333\n",
      " 0.72572667 0.72632667]\n",
      "\n",
      "Validation AUC:\n",
      "[0.6838  0.69284 0.69548 0.69678 0.69898 0.70088 0.70274 0.70482 0.7053\n",
      " 0.70574 0.70576 0.70708 0.70788 0.70876 0.70966 0.71008 0.7104  0.71042\n",
      " 0.71114 0.71074 0.71142 0.71028 0.70982 0.71064 0.71086 0.71144]\n"
     ]
    }
   ],
   "source": [
    "print('Training AUC:')\n",
    "print(train_auc2)\n",
    "print('\\nValidation AUC:')\n",
    "print(validation_auc2)"
   ]
  },
  {
   "cell_type": "markdown",
   "metadata": {},
   "source": [
    "## Testing with Different Splits on Data"
   ]
  },
  {
   "cell_type": "code",
   "execution_count": 53,
   "metadata": {},
   "outputs": [
    {
     "name": "stdout",
     "output_type": "stream",
     "text": [
      "100 boosts\n",
      "\tTraining AUC: 0.7205588235294118\n",
      "\tValidation AUC: 0.7145666666666667\n",
      "105 boosts\n",
      "\tTraining AUC: 0.7210470588235294\n",
      "\tValidation AUC: 0.7143666666666667\n",
      "110 boosts\n",
      "\tTraining AUC: 0.7222470588235295\n",
      "\tValidation AUC: 0.7168\n",
      "115 boosts\n",
      "\tTraining AUC: 0.7230647058823529\n",
      "\tValidation AUC: 0.7157\n",
      "120 boosts\n",
      "\tTraining AUC: 0.7240176470588235\n",
      "\tValidation AUC: 0.7168333333333333\n",
      "125 boosts\n",
      "\tTraining AUC: 0.7249\n",
      "\tValidation AUC: 0.7171666666666666\n"
     ]
    }
   ],
   "source": [
    "X,Y = ml.shuffleData(X,Y)\n",
    "Xtr, Xva, Ytr, Yva = ml.splitData(X,Y, .85)\n",
    "dtree_clf3 = DecisionTreeClassifier(max_depth=3)\n",
    "for n in range(100,126,5):\n",
    "    print(f'{n} boosts')\n",
    "    ada_regr3 = AdaBoostClassifier(base_estimator=dtree_clf3, n_estimators=n)\n",
    "    ada_regr3.fit(Xtr, Ytr)\n",
    "    print('\\tTraining AUC:', ada_regr3.score(Xtr, Ytr))\n",
    "    print('\\tValidation AUC:', ada_regr3.score(Xva, Yva))"
   ]
  },
  {
   "cell_type": "code",
   "execution_count": 54,
   "metadata": {},
   "outputs": [
    {
     "name": "stdout",
     "output_type": "stream",
     "text": [
      "100 boosts\n",
      "\tTraining AUC: 0.7206222222222223\n",
      "\tValidation AUC: 0.7154\n",
      "105 boosts\n",
      "\tTraining AUC: 0.7212888888888889\n",
      "\tValidation AUC: 0.71405\n",
      "110 boosts\n",
      "\tTraining AUC: 0.7221388888888889\n",
      "\tValidation AUC: 0.7149\n",
      "115 boosts\n",
      "\tTraining AUC: 0.7226833333333333\n",
      "\tValidation AUC: 0.7145\n",
      "120 boosts\n",
      "\tTraining AUC: 0.72305\n",
      "\tValidation AUC: 0.71485\n",
      "125 boosts\n",
      "\tTraining AUC: 0.7236833333333333\n",
      "\tValidation AUC: 0.7163\n"
     ]
    }
   ],
   "source": [
    "X,Y = ml.shuffleData(X,Y)\n",
    "Xtr, Xva, Ytr, Yva = ml.splitData(X,Y, .90)\n",
    "dtree_clf3 = DecisionTreeClassifier(max_depth=3)\n",
    "for n in range(100,126,5):\n",
    "    print(f'{n} boosts')\n",
    "    ada_regr3 = AdaBoostClassifier(base_estimator=dtree_clf3, n_estimators=n)\n",
    "    ada_regr3.fit(Xtr, Ytr)\n",
    "    print('\\tTraining AUC:', ada_regr3.score(Xtr, Ytr))\n",
    "    print('\\tValidation AUC:', ada_regr3.score(Xva, Yva))"
   ]
  },
  {
   "cell_type": "markdown",
   "metadata": {},
   "source": [
    "## Training and Boosting with All Available Data for Submission"
   ]
  },
  {
   "cell_type": "code",
   "execution_count": null,
   "metadata": {},
   "outputs": [],
   "source": [
    "auc_scores = np.zeros((6))\n",
    "\n",
    "for n in range(6):\n",
    "    print(f'{(n+24)*5} boosts...'))\n",
    "    dtree_clf = DecisionTreeClassifier(max_depth=3)\n",
    "    ada_regr = AdaBoostClassifier(base_estimator=dtree_clf, n_estimators=(n+24)*5)\n",
    "    ada_regr.fit(X, Y)\n",
    "    auc_scores[n] = cross_val_score(clf, X, Y, cv=5).mean()"
   ]
  },
  {
   "cell_type": "code",
   "execution_count": 76,
   "metadata": {},
   "outputs": [],
   "source": [
    "Xte = np.genfromtxt('data/X_test.txt', delimiter=None)\n",
    "dtree_clf = DecisionTreeClassifier(max_depth=3)\n",
    "ada_regr = AdaBoostClassifier(base_estimator=dtree_clf, n_estimators=130)\n",
    "ada_regr.fit(X, Y)\n",
    "probs = ada_regr.predict_log_proba(Xte)"
   ]
  },
  {
   "cell_type": "code",
   "execution_count": 77,
   "metadata": {},
   "outputs": [
    {
     "data": {
      "text/plain": [
       "array([[-0.6963108 , -0.68999353],\n",
       "       [-0.69123815, -0.69505986],\n",
       "       [-0.68796686, -0.69835448],\n",
       "       [-0.55620754, -0.85186033],\n",
       "       [-0.68737679, -0.69895107]])"
      ]
     },
     "execution_count": 77,
     "metadata": {},
     "output_type": "execute_result"
    }
   ],
   "source": [
    "probs[:5]"
   ]
  },
  {
   "cell_type": "code",
   "execution_count": 60,
   "metadata": {},
   "outputs": [
    {
     "data": {
      "text/plain": [
       "array([[0.49736071, 0.50263929],\n",
       "       [0.50049584, 0.49950416],\n",
       "       [0.50340208, 0.49659792],\n",
       "       [0.50737301, 0.49262699],\n",
       "       [0.50261571, 0.49738429]])"
      ]
     },
     "execution_count": 60,
     "metadata": {},
     "output_type": "execute_result"
    }
   ],
   "source": [
    "ada_regr3.predict_proba(Xte)[:5]"
   ]
  },
  {
   "cell_type": "code",
   "execution_count": 58,
   "metadata": {},
   "outputs": [],
   "source": [
    "# Create the data for submission by taking the P(Y=1) column from probs and just add a running index as the first column.\n",
    "Y_sub = np.vstack([np.arange(Xte.shape[0]), probs[:, 1]]).T\n",
    "\n",
    "# We specify the header (ID, Prob1) and also specify the comments as '' so the header won't be commented out with\n",
    "# the # sign.\n",
    "np.savetxt('data/Y_sub.txt', Y_sub, '%d, %.5f', header='ID,Prob1', comments='', delimiter=',')"
   ]
  },
  {
   "cell_type": "markdown",
   "metadata": {},
   "source": [
    "## Gradient Boosting on Decision Tree"
   ]
  },
  {
   "cell_type": "code",
   "execution_count": 71,
   "metadata": {},
   "outputs": [],
   "source": [
    "from sklearn.ensemble import GradientBoostingClassifier\n",
    "from sklearn.model_selection import cross_val_score"
   ]
  },
  {
   "cell_type": "code",
   "execution_count": 101,
   "metadata": {},
   "outputs": [],
   "source": [
    "X,Y = ml.shuffleData(X,Y)\n",
    "Xtr, Xva, Ytr, Yva = ml.splitData(X,Y,.75)"
   ]
  },
  {
   "cell_type": "markdown",
   "metadata": {},
   "source": [
    "Max Depth 1"
   ]
  },
  {
   "cell_type": "code",
   "execution_count": 117,
   "metadata": {},
   "outputs": [
    {
     "name": "stdout",
     "output_type": "stream",
     "text": [
      "25 boosts...\n",
      "30 boosts...\n",
      "35 boosts...\n",
      "40 boosts...\n",
      "45 boosts...\n",
      "50 boosts...\n",
      "55 boosts...\n",
      "60 boosts...\n",
      "65 boosts...\n",
      "70 boosts...\n",
      "75 boosts...\n",
      "80 boosts...\n",
      "85 boosts...\n",
      "90 boosts...\n",
      "95 boosts...\n",
      "100 boosts...\n",
      "105 boosts...\n",
      "110 boosts...\n",
      "115 boosts...\n",
      "120 boosts...\n",
      "125 boosts...\n",
      "130 boosts...\n",
      "135 boosts...\n",
      "140 boosts...\n",
      "145 boosts...\n",
      "150 boosts...\n",
      "155 boosts...\n",
      "160 boosts...\n",
      "165 boosts...\n",
      "170 boosts...\n",
      "175 boosts...\n",
      "180 boosts...\n",
      "185 boosts...\n",
      "190 boosts...\n",
      "195 boosts...\n"
     ]
    }
   ],
   "source": [
    "train_auc = np.zeros((35))\n",
    "validation_auc = np.zeros((35))\n",
    "\n",
    "for n in range(35):\n",
    "    print(f'{(n+5)*5} boosts...')\n",
    "    clf = GradientBoostingClassifier(n_estimators=(n+5)*5, max_depth=1).fit(Xtr, Ytr)\n",
    "    train_auc[n] = clf.score(Xtr, Ytr)\n",
    "    validation_auc[n] = clf.score(Xva, Yva)"
   ]
  },
  {
   "cell_type": "code",
   "execution_count": 118,
   "metadata": {},
   "outputs": [
    {
     "data": {
      "image/png": "[encoded data removed]",
      "text/plain": [
       "<Figure size 432x288 with 1 Axes>"
      ]
     },
     "metadata": {
      "needs_background": "light"
     },
     "output_type": "display_data"
    }
   ],
   "source": [
    "xrange = (np.arange(35)+5)*5\n",
    "plt.plot(xrange,train_auc,'r-',xrange,validation_auc,'g-')\n",
    "plt.xlabel('Boosts')\n",
    "plt.ylabel('AUC')\n",
    "plt.legend(['Training AUC', 'Validation AUC'])\n",
    "plt.savefig('results/gradboost1_auc.png')\n",
    "plt.show()"
   ]
  },
  {
   "cell_type": "markdown",
   "metadata": {},
   "source": [
    "Max Depth 2"
   ]
  },
  {
   "cell_type": "code",
   "execution_count": 108,
   "metadata": {},
   "outputs": [
    {
     "name": "stdout",
     "output_type": "stream",
     "text": [
      "50 boosts...\n",
      "55 boosts...\n",
      "60 boosts...\n",
      "65 boosts...\n",
      "70 boosts...\n",
      "75 boosts...\n",
      "80 boosts...\n",
      "85 boosts...\n",
      "90 boosts...\n",
      "95 boosts...\n",
      "100 boosts...\n",
      "105 boosts...\n",
      "110 boosts...\n",
      "115 boosts...\n",
      "120 boosts...\n",
      "125 boosts...\n",
      "130 boosts...\n",
      "135 boosts...\n",
      "140 boosts...\n",
      "145 boosts...\n",
      "150 boosts...\n",
      "155 boosts...\n",
      "160 boosts...\n",
      "165 boosts...\n",
      "170 boosts...\n"
     ]
    }
   ],
   "source": [
    "train_auc2 = np.zeros((25))\n",
    "validation_auc2 = np.zeros((25))\n",
    "\n",
    "for n in range(25):\n",
    "    print(f'{(n+10)*5} boosts...')\n",
    "    clf = GradientBoostingClassifier(n_estimators=(n+10)*5, max_depth=2).fit(Xtr, Ytr)\n",
    "    train_auc2[n] = clf.score(Xtr, Ytr)\n",
    "    validation_auc2[n] = clf.score(Xva, Yva)"
   ]
  },
  {
   "cell_type": "code",
   "execution_count": 110,
   "metadata": {},
   "outputs": [
    {
     "data": {
      "image/png": "[encoded data removed]",
      "text/plain": [
       "<Figure size 432x288 with 1 Axes>"
      ]
     },
     "metadata": {
      "needs_background": "light"
     },
     "output_type": "display_data"
    }
   ],
   "source": [
    "xrange = (np.arange(25)+10)*5\n",
    "plt.plot(xrange,train_auc2,'r-',xrange,validation_auc2,'g-')\n",
    "plt.xlabel('Boosts')\n",
    "plt.ylabel('AUC')\n",
    "plt.legend(['Training AUC', 'Validation AUC'])\n",
    "plt.savefig('results/gradboost2_auc.png')\n",
    "plt.show()"
   ]
  },
  {
   "cell_type": "markdown",
   "metadata": {},
   "source": [
    "Max Depth 3"
   ]
  },
  {
   "cell_type": "code",
   "execution_count": 119,
   "metadata": {},
   "outputs": [
    {
     "name": "stdout",
     "output_type": "stream",
     "text": [
      "120 boosts...\n",
      "125 boosts...\n",
      "130 boosts...\n",
      "135 boosts...\n",
      "140 boosts...\n",
      "145 boosts...\n",
      "150 boosts...\n",
      "155 boosts...\n"
     ]
    }
   ],
   "source": [
    "train_auc3 = np.zeros((8))\n",
    "validation_auc3 = np.zeros((8))\n",
    "\n",
    "for n in range(8):\n",
    "    print(f'{(n+24)*5} boosts...')\n",
    "    clf = GradientBoostingClassifier(n_estimators=(n+24)*5, max_depth=3).fit(Xtr, Ytr)\n",
    "    train_auc3[n] = clf.score(Xtr, Ytr)\n",
    "    validation_auc3[n] = clf.score(Xva, Yva)"
   ]
  },
  {
   "cell_type": "code",
   "execution_count": 122,
   "metadata": {},
   "outputs": [
    {
     "data": {
      "image/png": "[encoded data removed]",
      "text/plain": [
       "<Figure size 432x288 with 1 Axes>"
      ]
     },
     "metadata": {
      "needs_background": "light"
     },
     "output_type": "display_data"
    }
   ],
   "source": [
    "xrange = (np.arange(8)+23)*5\n",
    "plt.plot(xrange,train_auc3,'r-',xrange,validation_auc3,'g-')\n",
    "plt.xlabel('Boosts')\n",
    "plt.ylabel('AUC')\n",
    "plt.legend(['Training AUC', 'Validation AUC'])\n",
    "plt.savefig('results/gradboost3_auc.png')\n",
    "plt.show()"
   ]
  },
  {
   "cell_type": "code",
   "execution_count": 123,
   "metadata": {},
   "outputs": [
    {
     "name": "stdout",
     "output_type": "stream",
     "text": [
      "Training AUC: 0.7071\n",
      "Validation AUC: 0.70686\n",
      "Leaderboard AUC: 0.6999\n"
     ]
    }
   ],
   "source": [
    "print('Training AUC:',train_auc3[5])\n",
    "print('Validation AUC:',validation_auc3[5])\n",
    "print('Leaderboard AUC:',0.69990)"
   ]
  },
  {
   "cell_type": "markdown",
   "metadata": {},
   "source": [
    "### Train All Data Using Cross Validation to Score Predictions"
   ]
  },
  {
   "cell_type": "code",
   "execution_count": 114,
   "metadata": {},
   "outputs": [],
   "source": [
    "auc_scores = np.zeros((28))\n",
    "\n",
    "for n in range(28):\n",
    "    print(f'{(n+1)*5} boosts...')\n",
    "    clf = GradientBoostingClassifier(n_estimators=(n+1)*5, max_depth=3)\n",
    "    clf.fit(X, Y)\n",
    "    auc_scores[n] = cross_val_score(clf, X, Y, cv=5).mean()\n",
    "# probs = clf.predict_proba(Xte)"
   ]
  },
  {
   "cell_type": "code",
   "execution_count": 84,
   "metadata": {},
   "outputs": [
    {
     "data": {
      "text/plain": [
       "array([0.69957 , 0.70043 , 0.700645, 0.700915, 0.701105, 0.701605,\n",
       "       0.701945, 0.70228 , 0.70244 , 0.70274 ])"
      ]
     },
     "execution_count": 84,
     "metadata": {},
     "output_type": "execute_result"
    }
   ],
   "source": [
    "auc_scores"
   ]
  },
  {
   "cell_type": "code",
   "execution_count": 86,
   "metadata": {},
   "outputs": [
    {
     "data": {
      "text/plain": [
       "array([0.657105, 0.680975, 0.68963 , 0.692725, 0.69414 , 0.694685,\n",
       "       0.696145, 0.696875, 0.697565, 0.698745, 0.699295, 0.69972 ,\n",
       "       0.69957 , 0.70043 , 0.700645, 0.700915, 0.701105, 0.701605,\n",
       "       0.701945, 0.70228 , 0.70244 , 0.70274 ])"
      ]
     },
     "execution_count": 86,
     "metadata": {},
     "output_type": "execute_result"
    }
   ],
   "source": [
    "auc_scores"
   ]
  },
  {
   "cell_type": "code",
   "execution_count": 115,
   "metadata": {},
   "outputs": [
    {
     "data": {
      "text/plain": [
       "array([0.657105, 0.680975, 0.68963 , 0.692725, 0.69414 , 0.694685,\n",
       "       0.696145, 0.696875, 0.697565, 0.698745, 0.699295, 0.69972 ,\n",
       "       0.69957 , 0.70043 , 0.700645, 0.700915, 0.701105, 0.701605,\n",
       "       0.701945, 0.70228 , 0.70244 , 0.70274 , 0.70365 , 0.703805,\n",
       "       0.70416 , 0.70429 , 0.70451 , 0.70457 ])"
      ]
     },
     "execution_count": 115,
     "metadata": {},
     "output_type": "execute_result"
    }
   ],
   "source": [
    "auc_scores"
   ]
  },
  {
   "cell_type": "code",
   "execution_count": 111,
   "metadata": {},
   "outputs": [
    {
     "data": {
      "image/png": "[encoded data removed]",
      "text/plain": [
       "<Figure size 432x288 with 1 Axes>"
      ]
     },
     "metadata": {
      "needs_background": "light"
     },
     "output_type": "display_data"
    }
   ],
   "source": [
    "xrange = (np.arange(28)+1)*5\n",
    "plt.plot(xrange,auc_scores,'b-')\n",
    "plt.xlabel('Boosts')\n",
    "plt.ylabel('AUC')\n",
    "plt.savefig('results/gradboost_cross_val.png')\n",
    "plt.show()"
   ]
  },
  {
   "cell_type": "code",
   "execution_count": 112,
   "metadata": {},
   "outputs": [],
   "source": [
    "clf = GradientBoostingClassifier(n_estimators=140, max_depth=3).fit(X, Y)\n",
    "probs = clf.predict_proba(Xte)"
   ]
  },
  {
   "cell_type": "code",
   "execution_count": 113,
   "metadata": {},
   "outputs": [],
   "source": [
    "# Create the data for submission by taking the P(Y=1) column from probs and just add a running index as the first column.\n",
    "Y_sub = np.vstack([np.arange(Xte.shape[0]), probs[:, 1]]).T\n",
    "\n",
    "# We specify the header (ID, Prob1) and also specify the comments as '' so the header won't be commented out with\n",
    "# the # sign.\n",
    "np.savetxt('data/Y_sub.txt', Y_sub, '%d, %.5f', header='ID,Prob1', comments='', delimiter=',')"
   ]
  },
  {
   "cell_type": "code",
   "execution_count": null,
   "metadata": {},
   "outputs": [],
   "source": []
  }
 ],
 "metadata": {
  "kernelspec": {
   "display_name": "Python 3",
   "language": "python",
   "name": "python3"
  },
  "language_info": {
   "codemirror_mode": {
    "name": "ipython",
    "version": 3
   },
   "file_extension": ".py",
   "mimetype": "text/x-python",
   "name": "python",
   "nbconvert_exporter": "python",
   "pygments_lexer": "ipython3",
   "version": "3.7.6"
  }
 },
 "nbformat": 4,
 "nbformat_minor": 4
}
