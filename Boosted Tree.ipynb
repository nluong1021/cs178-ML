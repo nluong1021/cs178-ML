{
 "cells": [
  {
   "cell_type": "markdown",
   "metadata": {},
   "source": [
    "# Boosted Decision Tree Classifier"
   ]
  },
  {
   "cell_type": "code",
   "execution_count": 1,
   "metadata": {},
   "outputs": [],
   "source": [
    "import numpy as np\n",
    "import matplotlib.pyplot as plt\n",
    "import mltools as ml\n",
    "import mltools.linear\n",
    "import mltools.transforms as xform\n",
    "\n",
    "np.random.seed(0)\n",
    "%matplotlib inline"
   ]
  },
  {
   "cell_type": "code",
   "execution_count": 2,
   "metadata": {},
   "outputs": [],
   "source": [
    "X = np.genfromtxt('data/X_train.txt', delimiter=None)\n",
    "Y = np.genfromtxt('data/Y_train.txt', delimiter=None)\n",
    "X,Y = ml.shuffleData(X,Y)"
   ]
  },
  {
   "cell_type": "code",
   "execution_count": 3,
   "metadata": {},
   "outputs": [
    {
     "data": {
      "text/plain": [
       "(200000, 14)"
      ]
     },
     "execution_count": 3,
     "metadata": {},
     "output_type": "execute_result"
    }
   ],
   "source": [
    "X.shape"
   ]
  },
  {
   "cell_type": "code",
   "execution_count": 4,
   "metadata": {},
   "outputs": [
    {
     "data": {
      "text/plain": [
       "(200000,)"
      ]
     },
     "execution_count": 4,
     "metadata": {},
     "output_type": "execute_result"
    }
   ],
   "source": [
    "Y.shape"
   ]
  },
  {
   "cell_type": "code",
   "execution_count": 5,
   "metadata": {},
   "outputs": [],
   "source": [
    "# Xs, Ys = X[:2000], Y[:2000]\n",
    "# Xtr, Xva, Ytr, Yva = ml.splitData(Xs,Ys, .75)\n",
    "Xtr, Xva, Ytr, Yva = ml.splitData(X,Y, .75)"
   ]
  },
  {
   "cell_type": "code",
   "execution_count": 58,
   "metadata": {},
   "outputs": [],
   "source": [
    "boosts = []\n",
    "n_boosts = 100\n",
    "\n",
    "Ytr_ = np.copy(Ytr)  # We're going to copy the data into a new variable.\n",
    "\n",
    "for i in range(n_boosts):\n",
    "    tree = ml.dtree.treeRegress(Xtr, Ytr_, maxDepth=1)\n",
    "    boosts.append(tree)\n",
    "    # Now \"learning\" from our mistakes.\n",
    "    Ytr_ -= tree.predict(Xtr)"
   ]
  },
  {
   "cell_type": "code",
   "execution_count": 59,
   "metadata": {},
   "outputs": [],
   "source": [
    "class BoostedTree(ml.base.classifier):\n",
    "    def __init__(self, learners):\n",
    "        self.learners = learners\n",
    "    \n",
    "    def predict(self, X):\n",
    "        preds = [self.learners[l].predict(X) for l in range(len(self.learners))]\n",
    "        return np.sum(preds, axis=0)"
   ]
  },
  {
   "cell_type": "code",
   "execution_count": 63,
   "metadata": {},
   "outputs": [],
   "source": [
    "train_auc = np.zeros((99))\n",
    "validation_auc = np.zeros((99))\n",
    "for i in range(0,99):\n",
    "    bt = BoostedTree(boosts[:i+1])\n",
    "    bt.classes = np.unique(Y)\n",
    "    train_auc[i] = bt.auc(Xtr, Ytr)\n",
    "    validation_auc[i] = bt.auc(Xva, Yva)"
   ]
  },
  {
   "cell_type": "code",
   "execution_count": 64,
   "metadata": {},
   "outputs": [
    {
     "data": {
      "image/png": "[encoded data removed]",
      "text/plain": [
       "<Figure size 432x288 with 1 Axes>"
      ]
     },
     "metadata": {
      "needs_background": "light"
     },
     "output_type": "display_data"
    }
   ],
   "source": [
    "plt.plot(train_auc,'r-',validation_auc,'g-')\n",
    "plt.show()"
   ]
  },
  {
   "cell_type": "code",
   "execution_count": 65,
   "metadata": {},
   "outputs": [
    {
     "name": "stdout",
     "output_type": "stream",
     "text": [
      "0.6796103320494208\n",
      "0.6796342661892174\n"
     ]
    }
   ],
   "source": [
    "print(validation_auc[-5])\n",
    "print(validation_auc[-1])"
   ]
  },
  {
   "cell_type": "code",
   "execution_count": null,
   "metadata": {},
   "outputs": [],
   "source": [
    "# Create the data for submission by taking the P(Y=1) column from probs and just add a running index as the first column.\n",
    "Y_sub = np.vstack([np.arange(Xte.shape[0]), probs[:, 1]]).T\n",
    "\n",
    "# We specify the header (ID, Prob1) and also specify the comments as '' so the header won't be commented out with\n",
    "# the # sign.\n",
    "np.savetxt('data/Y_sub.txt', Y_sub, '%d, %.5f', header='ID,Prob1', comments='', delimiter=',')"
   ]
  },
  {
   "cell_type": "code",
   "execution_count": 65,
   "metadata": {},
   "outputs": [],
   "source": [
    "boosts = []\n",
    "n_boosts = 20\n",
    "\n",
    "Ytr_ = np.copy(Ytr)  # We're going to copy the data into a new variable.\n",
    "\n",
    "for i in range(n_boosts):\n",
    "    tree = ml.dtree.treeClassify(Xtr, Ytr_, maxDepth=1)\n",
    "    boosts.append(tree)\n",
    "    # Now \"learning\" from our mistakes.\n",
    "    Ytr_ -= tree.predictSoft(Xtr)[:,1]"
   ]
  },
  {
   "cell_type": "code",
   "execution_count": 66,
   "metadata": {},
   "outputs": [],
   "source": [
    "class BoostedTree(ml.base.classifier):\n",
    "    def __init__(self, learners):\n",
    "        self.learners = learners\n",
    "    \n",
    "    def predictSoft(self, X):\n",
    "        preds = [self.learners[l].predictSoft(X) for l in range(len(self.learners))]\n",
    "        return np.sum(preds, axis=0)"
   ]
  },
  {
   "cell_type": "code",
   "execution_count": 68,
   "metadata": {},
   "outputs": [],
   "source": [
    "train_auc = np.zeros((19))\n",
    "validation_auc = np.zeros((19))\n",
    "for i in range(1,19):\n",
    "    bt = BoostedTree(boosts[1:i+1])\n",
    "    bt.classes = np.unique(Y)\n",
    "    train_auc[i] = bt.auc(Xtr, Ytr)\n",
    "    validation_auc[i] = bt.auc(Xva, Yva)"
   ]
  },
  {
   "cell_type": "code",
   "execution_count": 69,
   "metadata": {},
   "outputs": [
    {
     "data": {
      "image/png": "[encoded data removed]",
      "text/plain": [
       "<Figure size 432x288 with 1 Axes>"
      ]
     },
     "metadata": {
      "needs_background": "light"
     },
     "output_type": "display_data"
    }
   ],
   "source": [
    "plt.plot(train_auc,'r-',validation_auc,'g-')\n",
    "plt.show()"
   ]
  },
  {
   "cell_type": "code",
   "execution_count": 37,
   "metadata": {},
   "outputs": [],
   "source": [
    "## TEST\n",
    "\n",
    "from sklearn.ensemble import GradientBoostingClassifier"
   ]
  },
  {
   "cell_type": "code",
   "execution_count": null,
   "metadata": {},
   "outputs": [],
   "source": [
    "train_auc = np.zeros((15))\n",
    "validation_auc = np.zeros((15))\n",
    "for i in range(15):\n",
    "    bgc = GradientBoostingClassifier(n_estimators=i, max_depth=1)\n",
    "    bgc.fit(Xtr, Ytr)"
   ]
  },
  {
   "cell_type": "code",
   "execution_count": 38,
   "metadata": {},
   "outputs": [],
   "source": [
    "test = np.zeros((5,3))\n",
    "polytest = ml.transforms.fpoly(test, 3, bias=False)"
   ]
  },
  {
   "cell_type": "code",
   "execution_count": null,
   "metadata": {},
   "outputs": [],
   "source": []
  }
 ],
 "metadata": {
  "kernelspec": {
   "display_name": "Python 3",
   "language": "python",
   "name": "python3"
  },
  "language_info": {
   "codemirror_mode": {
    "name": "ipython",
    "version": 3
   },
   "file_extension": ".py",
   "mimetype": "text/x-python",
   "name": "python",
   "nbconvert_exporter": "python",
   "pygments_lexer": "ipython3",
   "version": "3.7.6"
  }
 },
 "nbformat": 4,
 "nbformat_minor": 4
}
