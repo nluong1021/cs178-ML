{
 "cells": [
  {
   "cell_type": "markdown",
   "metadata": {},
   "source": [
    "# Boosted Decision Tree Classifier"
   ]
  },
  {
   "cell_type": "code",
   "execution_count": 5,
   "metadata": {},
   "outputs": [],
   "source": [
    "import numpy as np\n",
    "import matplotlib.pyplot as plt\n",
    "import mltools as ml\n",
    "import mltools.linear\n",
    "import mltools.transforms as xform\n",
    "\n",
    "np.random.seed(0)\n",
    "%matplotlib inline"
   ]
  },
  {
   "cell_type": "code",
   "execution_count": 6,
   "metadata": {},
   "outputs": [],
   "source": [
    "X = np.genfromtxt('data/X_train.txt', delimiter=None)\n",
    "Y = np.genfromtxt('data/Y_train.txt', delimiter=None)\n",
    "X,Y = ml.shuffleData(X,Y)"
   ]
  },
  {
   "cell_type": "code",
   "execution_count": 3,
   "metadata": {},
   "outputs": [
    {
     "data": {
      "text/plain": [
       "(200000, 14)"
      ]
     },
     "execution_count": 3,
     "metadata": {},
     "output_type": "execute_result"
    }
   ],
   "source": [
    "X.shape"
   ]
  },
  {
   "cell_type": "code",
   "execution_count": 4,
   "metadata": {},
   "outputs": [
    {
     "data": {
      "text/plain": [
       "(200000,)"
      ]
     },
     "execution_count": 4,
     "metadata": {},
     "output_type": "execute_result"
    }
   ],
   "source": [
    "Y.shape"
   ]
  },
  {
   "cell_type": "code",
   "execution_count": 7,
   "metadata": {},
   "outputs": [],
   "source": [
    "# Xs, Ys = X[:2000], Y[:2000]\n",
    "# Xtr, Xva, Ytr, Yva = ml.splitData(Xs,Ys, .75)\n",
    "Xtr, Xva, Ytr, Yva = ml.splitData(X,Y, .75)"
   ]
  },
  {
   "cell_type": "code",
   "execution_count": 58,
   "metadata": {},
   "outputs": [],
   "source": [
    "boosts = []\n",
    "n_boosts = 100\n",
    "\n",
    "Ytr_ = np.copy(Ytr)  # We're going to copy the data into a new variable.\n",
    "\n",
    "for i in range(n_boosts):\n",
    "    tree = ml.dtree.treeRegress(Xtr, Ytr_, maxDepth=1)\n",
    "    boosts.append(tree)\n",
    "    # Now \"learning\" from our mistakes.\n",
    "    Ytr_ -= tree.predict(Xtr)"
   ]
  },
  {
   "cell_type": "code",
   "execution_count": 59,
   "metadata": {},
   "outputs": [],
   "source": [
    "class BoostedTree(ml.base.classifier):\n",
    "    def __init__(self, learners):\n",
    "        self.learners = learners\n",
    "    \n",
    "    def predict(self, X):\n",
    "        preds = [self.learners[l].predict(X) for l in range(len(self.learners))]\n",
    "        return np.sum(preds, axis=0)"
   ]
  },
  {
   "cell_type": "code",
   "execution_count": 63,
   "metadata": {},
   "outputs": [],
   "source": [
    "train_auc = np.zeros((99))\n",
    "validation_auc = np.zeros((99))\n",
    "for i in range(0,99):\n",
    "    bt = BoostedTree(boosts[:i+1])\n",
    "    bt.classes = np.unique(Y)\n",
    "    train_auc[i] = bt.auc(Xtr, Ytr)\n",
    "    validation_auc[i] = bt.auc(Xva, Yva)"
   ]
  },
  {
   "cell_type": "code",
   "execution_count": 64,
   "metadata": {},
   "outputs": [
    {
     "data": {
      "image/png": "[encoded data removed]",
      "text/plain": [
       "<Figure size 432x288 with 1 Axes>"
      ]
     },
     "metadata": {
      "needs_background": "light"
     },
     "output_type": "display_data"
    }
   ],
   "source": [
    "plt.plot(train_auc,'r-',validation_auc,'g-')\n",
    "plt.show()"
   ]
  },
  {
   "cell_type": "code",
   "execution_count": 65,
   "metadata": {},
   "outputs": [
    {
     "name": "stdout",
     "output_type": "stream",
     "text": [
      "0.6796103320494208\n",
      "0.6796342661892174\n"
     ]
    }
   ],
   "source": [
    "print(validation_auc[-5])\n",
    "print(validation_auc[-1])"
   ]
  },
  {
   "cell_type": "code",
   "execution_count": null,
   "metadata": {},
   "outputs": [],
   "source": [
    "# Create the data for submission by taking the P(Y=1) column from probs and just add a running index as the first column.\n",
    "Y_sub = np.vstack([np.arange(Xte.shape[0]), probs[:, 1]]).T\n",
    "\n",
    "# We specify the header (ID, Prob1) and also specify the comments as '' so the header won't be commented out with\n",
    "# the # sign.\n",
    "np.savetxt('data/Y_sub.txt', Y_sub, '%d, %.5f', header='ID,Prob1', comments='', delimiter=',')"
   ]
  },
  {
   "cell_type": "code",
   "execution_count": 65,
   "metadata": {},
   "outputs": [],
   "source": [
    "boosts = []\n",
    "n_boosts = 20\n",
    "\n",
    "Ytr_ = np.copy(Ytr)  # We're going to copy the data into a new variable.\n",
    "\n",
    "for i in range(n_boosts):\n",
    "    tree = ml.dtree.treeClassify(Xtr, Ytr_, maxDepth=1)\n",
    "    boosts.append(tree)\n",
    "    # Now \"learning\" from our mistakes.\n",
    "    Ytr_ -= tree.predictSoft(Xtr)[:,1]"
   ]
  },
  {
   "cell_type": "code",
   "execution_count": 66,
   "metadata": {},
   "outputs": [],
   "source": [
    "class BoostedTree(ml.base.classifier):\n",
    "    def __init__(self, learners):\n",
    "        self.learners = learners\n",
    "    \n",
    "    def predictSoft(self, X):\n",
    "        preds = [self.learners[l].predictSoft(X) for l in range(len(self.learners))]\n",
    "        return np.sum(preds, axis=0)"
   ]
  },
  {
   "cell_type": "code",
   "execution_count": 68,
   "metadata": {},
   "outputs": [],
   "source": [
    "train_auc = np.zeros((19))\n",
    "validation_auc = np.zeros((19))\n",
    "for i in range(1,19):\n",
    "    bt = BoostedTree(boosts[1:i+1])\n",
    "    bt.classes = np.unique(Y)\n",
    "    train_auc[i] = bt.auc(Xtr, Ytr)\n",
    "    validation_auc[i] = bt.auc(Xva, Yva)"
   ]
  },
  {
   "cell_type": "code",
   "execution_count": 69,
   "metadata": {},
   "outputs": [
    {
     "data": {
      "image/png": "[encoded data removed]",
      "text/plain": [
       "<Figure size 432x288 with 1 Axes>"
      ]
     },
     "metadata": {
      "needs_background": "light"
     },
     "output_type": "display_data"
    }
   ],
   "source": [
    "plt.plot(train_auc,'r-',validation_auc,'g-')\n",
    "plt.show()"
   ]
  },
  {
   "cell_type": "markdown",
   "metadata": {},
   "source": [
    "## Adaboost for Single-Depth Decision Tree\n",
    "This is run in multiple iterations with additional boosts each time to create AUC graph"
   ]
  },
  {
   "cell_type": "code",
   "execution_count": 2,
   "metadata": {},
   "outputs": [],
   "source": [
    "## TEST\n",
    "\n",
    "from sklearn.ensemble import GradientBoostingClassifier\n",
    "from sklearn.ensemble import AdaBoostClassifier\n",
    "from sklearn.tree import DecisionTreeClassifier"
   ]
  },
  {
   "cell_type": "code",
   "execution_count": 3,
   "metadata": {},
   "outputs": [],
   "source": [
    "# train_auc = np.zeros((15))\n",
    "# validation_auc = np.zeros((15))\n",
    "# for i in range(15):\n",
    "#     bgc = GradientBoostingClassifier(n_estimators=i, max_depth=1)\n",
    "#     bgc.fit(Xtr, Ytr)"
   ]
  },
  {
   "cell_type": "code",
   "execution_count": 11,
   "metadata": {},
   "outputs": [
    {
     "name": "stdout",
     "output_type": "stream",
     "text": [
      "1 boosts...\n",
      "6 boosts...\n",
      "11 boosts...\n",
      "16 boosts...\n",
      "21 boosts...\n",
      "26 boosts...\n",
      "31 boosts...\n",
      "36 boosts...\n",
      "41 boosts...\n",
      "46 boosts...\n",
      "51 boosts...\n",
      "56 boosts...\n",
      "61 boosts...\n",
      "66 boosts...\n",
      "71 boosts...\n",
      "76 boosts...\n",
      "81 boosts...\n",
      "86 boosts...\n",
      "91 boosts...\n",
      "96 boosts...\n"
     ]
    }
   ],
   "source": [
    "dtree_clf = DecisionTreeClassifier(max_depth=1)\n",
    "\n",
    "train_auc = np.zeros((20))\n",
    "validation_auc = np.zeros((20))\n",
    "\n",
    "for i,n in enumerate(range(0,100,5)):\n",
    "    if n%5 == 0: print(f'{n+1} boosts...')\n",
    "    ada_regr = AdaBoostClassifier(base_estimator=dtree_clf, n_estimators=n+1)\n",
    "    ada_regr.fit(Xtr, Ytr)\n",
    "    train_auc[i] = ada_regr.score(Xtr, Ytr)\n",
    "    validation_auc[i] = ada_regr.score(Xva, Yva)\n",
    "#     preds = ada_regr.predict_proba(Xva)"
   ]
  },
  {
   "cell_type": "code",
   "execution_count": 21,
   "metadata": {},
   "outputs": [
    {
     "name": "stdout",
     "output_type": "stream",
     "text": [
      "101 boosts...\n",
      "106 boosts...\n",
      "111 boosts...\n",
      "116 boosts...\n",
      "121 boosts...\n",
      "126 boosts...\n"
     ]
    }
   ],
   "source": [
    "train_auc = np.concatenate((train_auc, np.zeros(6)))\n",
    "validation_auc = np.concatenate((validation_auc, np.zeros(6)))\n",
    "\n",
    "for i,n in enumerate(range(100,126,5)):\n",
    "    if n%5 == 0: print(f'{n+1} boosts...')\n",
    "    ada_regr = AdaBoostClassifier(base_estimator=dtree_clf, n_estimators=n+1)\n",
    "    ada_regr.fit(Xtr, Ytr)\n",
    "    train_auc[i+20] = ada_regr.score(Xtr, Ytr)\n",
    "    validation_auc[i+20] = ada_regr.score(Xva, Yva)"
   ]
  },
  {
   "cell_type": "code",
   "execution_count": 25,
   "metadata": {},
   "outputs": [
    {
     "name": "stdout",
     "output_type": "stream",
     "text": [
      "131 boosts...\n",
      "136 boosts...\n",
      "141 boosts...\n",
      "146 boosts...\n",
      "151 boosts...\n",
      "156 boosts...\n"
     ]
    }
   ],
   "source": [
    "train_auc = np.concatenate((train_auc, np.zeros(6)))\n",
    "validation_auc = np.concatenate((validation_auc, np.zeros(6)))\n",
    "\n",
    "for i,n in enumerate(range(130,156,5)):\n",
    "    if n%5 == 0: print(f'{n+1} boosts...')\n",
    "    ada_regr = AdaBoostClassifier(base_estimator=dtree_clf, n_estimators=n+1)\n",
    "    ada_regr.fit(Xtr, Ytr)\n",
    "    train_auc[i+26] = ada_regr.score(Xtr, Ytr)\n",
    "    validation_auc[i+26] = ada_regr.score(Xva, Yva)"
   ]
  },
  {
   "cell_type": "code",
   "execution_count": 27,
   "metadata": {},
   "outputs": [
    {
     "data": {
      "image/png": "[encoded data removed]",
      "text/plain": [
       "<Figure size 432x288 with 1 Axes>"
      ]
     },
     "metadata": {
      "needs_background": "light"
     },
     "output_type": "display_data"
    }
   ],
   "source": [
    "xrange = np.arange(0,156,5)\n",
    "plt.plot(xrange,train_auc,'r-',xrange,validation_auc,'g-')\n",
    "plt.xlabel('Boosts')\n",
    "plt.ylabel('AUC')\n",
    "plt.legend(['Training AUC', 'Validation AUC'])\n",
    "plt.savefig('adaboost_auc155.png')\n",
    "plt.show()"
   ]
  },
  {
   "cell_type": "markdown",
   "metadata": {},
   "source": [
    "## Training and Boosting with All Available Data for Submission"
   ]
  },
  {
   "cell_type": "code",
   "execution_count": null,
   "metadata": {},
   "outputs": [],
   "source": [
    "dtree_clf = DecisionTreeClassifier(max_depth=1)\n",
    "ada_regr = AdaBoostClassifier(base_estimator=dtree_clf, n_estimators=140)\n",
    "ada_regr.fit(X, Y)\n",
    "preds = ada_regr.predict_proba(Xte)"
   ]
  },
  {
   "cell_type": "code",
   "execution_count": null,
   "metadata": {},
   "outputs": [],
   "source": [
    "# Create the data for submission by taking the P(Y=1) column from probs and just add a running index as the first column.\n",
    "Y_sub = np.vstack([np.arange(Xte.shape[0]), probs[:, 1]]).T\n",
    "\n",
    "# We specify the header (ID, Prob1) and also specify the comments as '' so the header won't be commented out with\n",
    "# the # sign.\n",
    "np.savetxt('data/Y_sub.txt', Y_sub, '%d, %.5f', header='ID,Prob1', comments='', delimiter=',')"
   ]
  },
  {
   "cell_type": "markdown",
   "metadata": {},
   "source": [
    "## Run 2 with Adaboost Regressor on Decision Tree\n",
    "Decision tree is changed to have max depth 3 instead of 1"
   ]
  },
  {
   "cell_type": "code",
   "execution_count": 46,
   "metadata": {},
   "outputs": [],
   "source": [
    "# dtree_clf2 = DecisionTreeClassifier(max_depth=3)\n",
    "\n",
    "# train_auc2 = np.zeros((20))\n",
    "# validation_auc2 = np.zeros((20))\n",
    "\n",
    "for i,n in enumerate(range(0,101,5)):\n",
    "    if n%5 == 0: print(f'{n+1} boosts...')\n",
    "#     ada_regr2 = AdaBoostClassifier(base_estimator=dtree_clf2, n_estimators=n+1)\n",
    "#     ada_regr2.fit(Xtr, Ytr)\n",
    "#     train_auc2[i] = ada_regr2.score(Xtr, Ytr)\n",
    "#     validation_auc2[i] = ada_regr2.score(Xva, Yva)\n",
    "#     preds = ada_regr.predict_proba(Xva)"
   ]
  },
  {
   "cell_type": "code",
   "execution_count": null,
   "metadata": {},
   "outputs": [
    {
     "name": "stdout",
     "output_type": "stream",
     "text": [
      "106 boosts...\n",
      "111 boosts...\n",
      "116 boosts...\n",
      "121 boosts...\n"
     ]
    }
   ],
   "source": [
    "train_auc2 = np.concatenate((train_auc2, np.zeros(5)))\n",
    "validation_auc2 = np.concatenate((validation_auc2, np.zeros(5)))\n",
    "\n",
    "for i,n in enumerate(range(105,126,5)):\n",
    "    if n%5 == 0: print(f'{n+1} boosts...')\n",
    "    ada_regr2 = AdaBoostClassifier(base_estimator=dtree_clf2, n_estimators=n+1)\n",
    "    ada_regr2.fit(Xtr, Ytr)\n",
    "    train_auc2[i+21] = ada_regr2.score(Xtr, Ytr)\n",
    "    validation_auc2[i+21] = ada_regr2.score(Xva, Yva)"
   ]
  },
  {
   "cell_type": "code",
   "execution_count": 45,
   "metadata": {},
   "outputs": [
    {
     "data": {
      "image/png": "[encoded data removed]",
      "text/plain": [
       "<Figure size 432x288 with 1 Axes>"
      ]
     },
     "metadata": {
      "needs_background": "light"
     },
     "output_type": "display_data"
    }
   ],
   "source": [
    "xrange = np.arange(0,126,5)\n",
    "plt.plot(xrange,train_auc2,'r-',xrange,validation_auc2,'g-')\n",
    "plt.xlabel('Boosts')\n",
    "plt.ylabel('AUC')\n",
    "plt.legend(['Training AUC', 'Validation AUC'])\n",
    "plt.savefig('adaboost2_auc126.png')\n",
    "plt.show()"
   ]
  },
  {
   "cell_type": "code",
   "execution_count": null,
   "metadata": {},
   "outputs": [],
   "source": []
  }
 ],
 "metadata": {
  "kernelspec": {
   "display_name": "Python 3",
   "language": "python",
   "name": "python3"
  },
  "language_info": {
   "codemirror_mode": {
    "name": "ipython",
    "version": 3
   },
   "file_extension": ".py",
   "mimetype": "text/x-python",
   "name": "python",
   "nbconvert_exporter": "python",
   "pygments_lexer": "ipython3",
   "version": "3.7.6"
  }
 },
 "nbformat": 4,
 "nbformat_minor": 4
}
